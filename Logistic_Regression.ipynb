{
 "cells": [
  {
   "attachments": {},
   "cell_type": "markdown",
   "id": "7e95ec08",
   "metadata": {},
   "source": [
    "<h1>Logistic Regression</h1>\n",
    "\n",
    "\n",
    "Linear Regression is for estimating continuous values, such as predicting house prices. However, Linear Regression falls short when the goal shifts to predicting the most likely class for a given data point. In such cases, <u>Logistic</u> Regression emerges as the preferred choice. Unlike Linear Regression, Logistic Regression assesses the probability of a data point belonging to a specific class, thus proving invaluable in classification tasks.\n",
    "\n",
    "Logistic Regression is a variation of Linear Regression, useful when the dependent variable <i>y</i> is categorical. Despite the name logistic <i>regression</i>, it is a <b>probabilistic classification</b> model. Logistic regression fits a special s-shaped curve by taking the linear regression and transforming the numeric estimate into a probability with the following function:\n",
    "\n",
    "$$\n",
    "ProbabilityOfaClass = \\theta(y) = \\frac{e^y}{1 + e^y}\n",
    "$$\n",
    "\n",
    "which produces values between 0 (as y approaches minus infinity $-\\infty$) and 1 (as y approaches plus infinity $+\\infty$). This now becomes a special kind of non-linear regression.\n",
    "\n",
    "In the equation, <i>y</i> is the regression result (the sum of the variables weighted by the coefficients), $e$ is the exponential function, and $\\theta(y)$ is the logistic function, also called a logistic curve. It is a common \"S\" shape (sigmoid curve)."
   ]
  },
  {
   "cell_type": "code",
   "execution_count": 1,
   "id": "e36f4a01",
   "metadata": {},
   "outputs": [],
   "source": [
    "import glob\n",
    "import numpy as np\n",
    "import tensorflow as tf\n",
    "import matplotlib.pyplot as plt\n",
    "from sklearn.datasets import load_iris\n",
    "from sklearn.model_selection import train_test_split\n",
    "from sklearn.preprocessing import MinMaxScaler, OneHotEncoder"
   ]
  },
  {
   "attachments": {},
   "cell_type": "markdown",
   "id": "13d5c644",
   "metadata": {},
   "source": [
    "<h2>Iris Dataset</h2>\n",
    "\n",
    "<a href=\"https://archive.ics.uci.edu/ml/datasets/iris\">The Iris Dataset</a> consists of 50 samples from each of the three species of Iris. In total, it has 150 records under five attributes and species.\n",
    "\n",
    "Attributes Independent Variables:\n",
    "<ul>\n",
    "    <li>petal length</li>\n",
    "    <li>petal width</li>\n",
    "    <li>sepal length</li>\n",
    "    <li>sepal width</li>\n",
    "</ul>\n",
    "Dependent Variables:\n",
    "<ul>\n",
    "    <li>Iris setosa</li>\n",
    "    <li>Iris virginica</li>\n",
    "    <li>Iris versicolor</li>\n",
    "</ul>\n",
    "<br>\n",
    "\n",
    "Next, we load the dataset pre-built within the sklearn library. Preprocess the features and values, and then we can start using it. Afterward, we separate the dataset into training and testing parts randomly."
   ]
  },
  {
   "cell_type": "code",
   "execution_count": 2,
   "id": "512b7c06",
   "metadata": {},
   "outputs": [],
   "source": [
    "dataset = load_iris() # Load the dataset\n",
    "x, y = dataset.data, dataset.target # Seperate x (independent variable) and y (dependent variable)\n",
    "\n",
    "# Preprocess the x values by normalizing them:\n",
    "scaler = MinMaxScaler()\n",
    "x = scaler.fit_transform(x)\n",
    "\n",
    "# Preprocess the y values by encoding them to one-hot vector:\n",
    "encoder = OneHotEncoder()\n",
    "y = encoder.fit_transform(y.reshape(-1, 1)).toarray()\n",
    "\n",
    "# Split the dataset to train and test sets:\n",
    "train_x, test_x, train_y, test_y = train_test_split(x, y, test_size=0.2, random_state=2024, shuffle=True)\n",
    "\n",
    "# transform the arrays into tensors\n",
    "train_x = tf.constant(train_x, dtype=tf.float32)\n",
    "test_x = tf.constant(test_x, dtype=tf.float32)\n",
    "train_y = tf.constant(train_y, dtype=tf.float32)\n",
    "test_y = tf.constant(test_y, dtype=tf.float32)"
   ]
  },
  {
   "attachments": {},
   "cell_type": "markdown",
   "id": "afd25f92",
   "metadata": {},
   "source": [
    "<h2>Define Model Components</h2>\n",
    "\n",
    "We start by defining the loss function. Since we want to solve a classification task, we need to define an appropriate loss function that can aid the model in providing valuable signal based on correct predicting the label class. Therefore, we are going to define and use cross-entropy loss function for binary classification as follows:\n",
    "\n",
    "<!DOCTYPE html>\n",
    "<html>\n",
    "<body>\n",
    "  <p>\\[ \\text{Binary Cross-Entropy Loss} = - \\sum_{i=1}^{N} y_{i} \\cdot \\log(p_{i}) + (1 - y_{i}) \\cdot \\log(1 - p_{i}) \\]</p>\n",
    "  <ul>\n",
    "    <li>\\( N \\) is the number of samples.</li>\n",
    "    <li>\\( y_{i} \\) is the actual label (0 or 1) for the \\( i \\)th sample.</li>\n",
    "    <li>\\( p_{i} \\) is the predicted probability that the \\( i \\)th sample belongs to the positive class.</li>\n",
    "  </ul>\n",
    "  <p>This formula calculates the cross-entropy loss over the entire batch for classification tasks.</p>\n",
    "</body>\n",
    "</html>\n",
    "\n",
    "<h3>Loss Function</h3>"
   ]
  },
  {
   "cell_type": "code",
   "execution_count": 3,
   "id": "2d0b2235-d145-4162-ac47-06519284a36c",
   "metadata": {},
   "outputs": [],
   "source": [
    "def loss_function(pred, actual):\n",
    "    loss = - tf.reduce_mean(actual * tf.math.log(pred)\n",
    "                            + (1 - actual) * tf.math.log(1 - pred))\n",
    "    return loss"
   ]
  },
  {
   "attachments": {},
   "cell_type": "markdown",
   "id": "4c758723",
   "metadata": {},
   "source": [
    "<h3>Logistic Regression Model</h3>\n",
    "\n",
    "Now, let's define the logistic regression model:\n",
    "\n",
    "Logistic regression is typically thought of as a single equation:\n",
    "\n",
    "ŷ = sigmoid(w * x + b)\n",
    "\n",
    "We can have it broken into its three main components: \n",
    "\n",
    "-   a weight times features matrix multiplication operation, \n",
    "-   a summation of the weighted features and a bias term, \n",
    "-   and the application of a sigmoid function.\n",
    "\n",
    "The function we are going to use is the <i>logistic function</i> $(\\frac{1}{1+e^{-Wx}})$, which is fed the input data after applying weights and bias. In TensorFlow, this function is implemented as the <code>nn.sigmoid</code> function. Effectively, this fits the weighted input with bias into a 0-100 % curve, which is the probability function we want.\n",
    "\n",
    "We can't use <b>least-squares linear regression</b> here, so we should use Adam optimizer to reduce the loss through looping over the entire batch:"
   ]
  },
  {
   "cell_type": "code",
   "execution_count": 4,
   "id": "546b1373-5e96-4f4f-a5b9-481758977be5",
   "metadata": {},
   "outputs": [],
   "source": [
    "def logistic_regression(features, weights, bias):\n",
    "    linear_transformation = tf.matmul(features, weights, name='linear_transformation') # Calculate the linear transformation\n",
    "    with_bias = tf.add(linear_transformation, bias, name='add_bias') # Add the bias term\n",
    "    output = tf.nn.sigmoid(with_bias, name='sigmoid_activation') # Apply the sigmoid activation function\n",
    "    return output"
   ]
  },
  {
   "cell_type": "code",
   "execution_count": 5,
   "id": "bca74b78-d9ae-403b-b20e-017f9a9e98dc",
   "metadata": {},
   "outputs": [],
   "source": [
    "def run(learning_rate, total_epochs, train_y, interval_print=10):\n",
    "    accuracy_values = []\n",
    "    loss_values = []\n",
    "\n",
    "    optimizer = tf.keras.optimizers.Adam(learning_rate)\n",
    "\n",
    "    weights = tf.Variable(tf.random.normal((train_x.shape[-1], 1), mean=0.5, stddev=0.5), dtype=tf.float32)\n",
    "    bias = tf.Variable(tf.random.normal((1, 1), mean=0.5, stddev=0.5), dtype=tf.float32)\n",
    "    \n",
    "    for epoch in range(1, total_epochs + 1):\n",
    "        with tf.GradientTape() as tape:\n",
    "            pred = logistic_regression(train_x, weights, bias)\n",
    "            loss = loss_function(pred, train_y)\n",
    "        gradient = tape.gradient(loss, [weights, bias])\n",
    "        optimizer.apply_gradients(zip(gradient, [weights, bias]))\n",
    "    \n",
    "        loss_values.append(loss.numpy())\n",
    "        accuracy = compute_accuracy(pred, train_y)\n",
    "        accuracy_values.append(accuracy.numpy())\n",
    "        \n",
    "        if epoch % interval_print == 0:           \n",
    "            print(f'Epoch: {epoch:04d} || Train Loss: {loss:.3f}, Train Accuracy: {accuracy:.3f}')\n",
    "\n",
    "    return {\n",
    "        'weights' : weights,\n",
    "        'bias'    : bias,\n",
    "        'accuracy': accuracy_values,\n",
    "        'loss'    : loss_values\n",
    "        }"
   ]
  },
  {
   "cell_type": "markdown",
   "id": "0daf480b-33f7-4301-9d77-a5c81090ba5c",
   "metadata": {},
   "source": [
    "<h3>Accuracy</h3>\n",
    "We also want some additional operations to keep track of our model's efficiency over time. We can do this like so:"
   ]
  },
  {
   "cell_type": "code",
   "execution_count": 6,
   "id": "4e281b63-36c2-4ce2-91e0-a976dab74f6c",
   "metadata": {},
   "outputs": [],
   "source": [
    "def compute_accuracy(predicted_y, actual_y):\n",
    "    # print(predicted_y, '\\n', actual_y)\n",
    "    # correct_prediction = tf.equal(tf.argmax(predicted_y, axis=1), tf.argmax(actual_y, axis=1))\n",
    "    predicted_y = tf.where(predicted_y > 0.5, 1.0, 0.0)\n",
    "    correct_prediction = tf.equal(predicted_y, actual_y)\n",
    "    return tf.reduce_mean(tf.cast(correct_prediction, dtype=tf.float32))"
   ]
  },
  {
   "cell_type": "markdown",
   "id": "e5926dad-bafa-4f3b-87ba-59216e98adcf",
   "metadata": {},
   "source": [
    "<h2>One-vs-All</h2>\n",
    "<h3>Training</h3>\n",
    "In the context of training a logistic regression model on the Iris dataset, the One-vs-All (OvA) approach, involves training multiple binary classifiers, each designed to distinguish between one class and the rest of the classes.\n",
    "\n",
    "The Iris dataset consists of three different classes of iris plants. Since logistic regression is inherently a binary classifier, we need to extend it to handle multi-class classification problems like the Iris dataset."
   ]
  },
  {
   "cell_type": "code",
   "execution_count": 7,
   "id": "dffe30b3-a2ca-43b9-96e5-2b1100005a89",
   "metadata": {},
   "outputs": [
    {
     "name": "stdout",
     "output_type": "stream",
     "text": [
      "Epoch: 0010 || Train Loss: 0.204, Train Accuracy: 0.967\n",
      "Epoch: 0020 || Train Loss: 0.072, Train Accuracy: 1.000\n",
      "Epoch: 0030 || Train Loss: 0.025, Train Accuracy: 1.000\n",
      "Epoch: 0040 || Train Loss: 0.018, Train Accuracy: 1.000\n",
      "Epoch: 0050 || Train Loss: 0.013, Train Accuracy: 1.000\n",
      "Epoch: 0060 || Train Loss: 0.011, Train Accuracy: 1.000\n",
      "Epoch: 0070 || Train Loss: 0.010, Train Accuracy: 1.000\n",
      "Epoch: 0080 || Train Loss: 0.009, Train Accuracy: 1.000\n",
      "Epoch: 0090 || Train Loss: 0.008, Train Accuracy: 1.000\n",
      "Epoch: 0100 || Train Loss: 0.007, Train Accuracy: 1.000\n",
      "Epoch: 0110 || Train Loss: 0.007, Train Accuracy: 1.000\n",
      "Epoch: 0120 || Train Loss: 0.006, Train Accuracy: 1.000\n",
      "Epoch: 0130 || Train Loss: 0.006, Train Accuracy: 1.000\n",
      "Epoch: 0140 || Train Loss: 0.005, Train Accuracy: 1.000\n",
      "Epoch: 0150 || Train Loss: 0.005, Train Accuracy: 1.000\n",
      "Epoch: 0160 || Train Loss: 0.005, Train Accuracy: 1.000\n",
      "Epoch: 0170 || Train Loss: 0.004, Train Accuracy: 1.000\n",
      "Epoch: 0180 || Train Loss: 0.004, Train Accuracy: 1.000\n",
      "Epoch: 0190 || Train Loss: 0.004, Train Accuracy: 1.000\n",
      "Epoch: 0200 || Train Loss: 0.004, Train Accuracy: 1.000\n",
      "\n",
      "Epoch: 0010 || Train Loss: 0.652, Train Accuracy: 0.667\n",
      "Epoch: 0020 || Train Loss: 0.567, Train Accuracy: 0.575\n",
      "Epoch: 0030 || Train Loss: 0.539, Train Accuracy: 0.683\n",
      "Epoch: 0040 || Train Loss: 0.525, Train Accuracy: 0.708\n",
      "Epoch: 0050 || Train Loss: 0.517, Train Accuracy: 0.717\n",
      "Epoch: 0060 || Train Loss: 0.512, Train Accuracy: 0.700\n",
      "Epoch: 0070 || Train Loss: 0.510, Train Accuracy: 0.700\n",
      "Epoch: 0080 || Train Loss: 0.508, Train Accuracy: 0.700\n",
      "Epoch: 0090 || Train Loss: 0.507, Train Accuracy: 0.700\n",
      "Epoch: 0100 || Train Loss: 0.506, Train Accuracy: 0.700\n",
      "Epoch: 0110 || Train Loss: 0.506, Train Accuracy: 0.700\n",
      "Epoch: 0120 || Train Loss: 0.505, Train Accuracy: 0.700\n",
      "Epoch: 0130 || Train Loss: 0.504, Train Accuracy: 0.708\n",
      "Epoch: 0140 || Train Loss: 0.504, Train Accuracy: 0.708\n",
      "Epoch: 0150 || Train Loss: 0.503, Train Accuracy: 0.700\n",
      "Epoch: 0160 || Train Loss: 0.503, Train Accuracy: 0.700\n",
      "Epoch: 0170 || Train Loss: 0.503, Train Accuracy: 0.708\n",
      "Epoch: 0180 || Train Loss: 0.502, Train Accuracy: 0.708\n",
      "Epoch: 0190 || Train Loss: 0.502, Train Accuracy: 0.717\n",
      "Epoch: 0200 || Train Loss: 0.502, Train Accuracy: 0.717\n",
      "\n",
      "Epoch: 0010 || Train Loss: 0.382, Train Accuracy: 0.792\n",
      "Epoch: 0020 || Train Loss: 0.261, Train Accuracy: 0.942\n",
      "Epoch: 0030 || Train Loss: 0.209, Train Accuracy: 0.958\n",
      "Epoch: 0040 || Train Loss: 0.180, Train Accuracy: 0.958\n",
      "Epoch: 0050 || Train Loss: 0.159, Train Accuracy: 0.975\n",
      "Epoch: 0060 || Train Loss: 0.145, Train Accuracy: 0.975\n",
      "Epoch: 0070 || Train Loss: 0.133, Train Accuracy: 0.975\n",
      "Epoch: 0080 || Train Loss: 0.123, Train Accuracy: 0.975\n",
      "Epoch: 0090 || Train Loss: 0.115, Train Accuracy: 0.975\n",
      "Epoch: 0100 || Train Loss: 0.108, Train Accuracy: 0.975\n",
      "Epoch: 0110 || Train Loss: 0.102, Train Accuracy: 0.975\n",
      "Epoch: 0120 || Train Loss: 0.097, Train Accuracy: 0.975\n",
      "Epoch: 0130 || Train Loss: 0.092, Train Accuracy: 0.975\n",
      "Epoch: 0140 || Train Loss: 0.088, Train Accuracy: 0.975\n",
      "Epoch: 0150 || Train Loss: 0.085, Train Accuracy: 0.975\n",
      "Epoch: 0160 || Train Loss: 0.082, Train Accuracy: 0.975\n",
      "Epoch: 0170 || Train Loss: 0.079, Train Accuracy: 0.975\n",
      "Epoch: 0180 || Train Loss: 0.076, Train Accuracy: 0.975\n",
      "Epoch: 0190 || Train Loss: 0.074, Train Accuracy: 0.975\n",
      "Epoch: 0200 || Train Loss: 0.072, Train Accuracy: 0.975\n"
     ]
    }
   ],
   "source": [
    "learning_rate = 0.5\n",
    "total_epochs = 200\n",
    "\n",
    "\n",
    "# label 1 - first classifier\n",
    "train_y_1 = train_y.numpy()[:, 0:2] # transform to NumPy and select index 0 and 1 from the one-hot vector of label\n",
    "train_y_1[:, -1] = 0 # only label 1 can have 1 and zero value, the second index is all negative, thus 0.\n",
    "train_y_1 = np.max(train_y_1, axis=1).reshape(-1, 1) # create a single value from the one-hot vector which either is 0 or 1\n",
    "train_y_1 = tf.constant(train_y_1, dtype=tf.float32) # transform it to tensor for processing\n",
    "\n",
    "classifier_1 = run(learning_rate, total_epochs, train_y_1) # run the first classifier\n",
    "\n",
    "#~~~~~~~~~~~~~~~~~~~~~~~~~~~\n",
    "print()\n",
    "#~~~~~~~~~~~~~~~~~~~~~~~~~~~\n",
    "\n",
    "# label 2 - Second classifier\n",
    "train_y_2 = train_y.numpy()[:, 1:3]\n",
    "train_y_2[:, -1] = 0\n",
    "train_y_2 = np.max(train_y_2, axis=1).reshape(-1, 1)\n",
    "train_y_2 = tf.constant(train_y_2, dtype=tf.float32)\n",
    "\n",
    "classifier_2 = run(learning_rate, total_epochs, train_y_2)\n",
    "\n",
    "#~~~~~~~~~~~~~~~~~~~~~~~~~~~\n",
    "print()\n",
    "#~~~~~~~~~~~~~~~~~~~~~~~~~~~\n",
    "\n",
    "# label 3 - Third classifier\n",
    "train_y_3 = train_y.numpy()[:, 1:3]\n",
    "train_y_3[:, 0] = 0\n",
    "train_y_3 = np.max(train_y_3, axis=1).reshape(-1, 1)\n",
    "train_y_3 = tf.constant(train_y_3, dtype=tf.float32)\n",
    "\n",
    "classifier_3 = run(learning_rate, total_epochs, train_y_3)"
   ]
  },
  {
   "cell_type": "markdown",
   "id": "028725ba-40c8-42e4-9465-fa5af6fae75f",
   "metadata": {},
   "source": [
    "<h3>Testing</h3>\n",
    "We utilize the weights and biases of each trained classifier to predict the labels of the test data."
   ]
  },
  {
   "cell_type": "code",
   "execution_count": 8,
   "id": "41f1f32e-61aa-47d6-9edb-abffaaf7ba3f",
   "metadata": {},
   "outputs": [],
   "source": [
    "# Label 1\n",
    "weights = classifier_1['weights']\n",
    "bias = classifier_1['bias']\n",
    "\n",
    "label_1 = logistic_regression(test_x, weights, bias)\n",
    "label_1 = tf.where(label_1 > 0.5, 1.0, 0.0)"
   ]
  },
  {
   "cell_type": "code",
   "execution_count": 9,
   "id": "c6ae22e0-e500-4394-8d68-0b9c1adbc830",
   "metadata": {},
   "outputs": [],
   "source": [
    "# Label 2\n",
    "weights = classifier_2['weights']\n",
    "bias = classifier_2['bias']\n",
    "\n",
    "label_2 = logistic_regression(test_x, weights, bias)\n",
    "label_2 = tf.where(label_2 > 0.5, 1.0, 0.0)"
   ]
  },
  {
   "cell_type": "code",
   "execution_count": 10,
   "id": "91d8689e-57c1-4d8c-ad4d-a90a8cec08b0",
   "metadata": {},
   "outputs": [],
   "source": [
    "# Label 3\n",
    "weights = classifier_3['weights']\n",
    "bias = classifier_3['bias']\n",
    "\n",
    "label_3 = logistic_regression(test_x, weights, bias)\n",
    "label_3 = tf.where(label_3 > 0.5, 1.0, 0.0)"
   ]
  },
  {
   "cell_type": "markdown",
   "id": "846b4f66-a4a3-49c2-915e-09474dd6b062",
   "metadata": {},
   "source": [
    "After each classifier has predicted its associated labels, we combine all predictions into a single array. This allows us to evaluate the accuracy of our prediction."
   ]
  },
  {
   "cell_type": "code",
   "execution_count": 11,
   "id": "c4703b26-1aa1-417e-a480-858fdc9e9ede",
   "metadata": {},
   "outputs": [
    {
     "name": "stdout",
     "output_type": "stream",
     "text": [
      "Test Accuracy: 0.733\n"
     ]
    }
   ],
   "source": [
    "zeroes = np.zeros(shape=(len(test_y), test_y.shape[-1]), dtype=np.uint16)\n",
    "\n",
    "zeroes[:,0] = label_1.numpy().reshape(-1)\n",
    "zeroes[:,1] = label_2.numpy().reshape(-1)\n",
    "zeroes[:,2] = label_3.numpy().reshape(-1)\n",
    "\n",
    "row_equality = np.all(zeroes == test_y.numpy().astype(np.uint16), axis=1)\n",
    "num_corrects  = np.mean(row_equality)\n",
    "\n",
    "print(f'Test Accuracy: {num_corrects:.3f}')"
   ]
  },
  {
   "attachments": {},
   "cell_type": "markdown",
   "id": "7cc39055",
   "metadata": {},
   "source": [
    "Let's plot the loss values and accuracy during training to see how it has changed during the training:"
   ]
  },
  {
   "cell_type": "code",
   "execution_count": 14,
   "id": "c464bb62-3bd3-465e-b7ee-4f002b3298b8",
   "metadata": {},
   "outputs": [
    {
     "data": {
      "image/png": "[encoded data removed]",
      "text/plain": [
       "<Figure size 1000x400 with 2 Axes>"
      ]
     },
     "metadata": {},
     "output_type": "display_data"
    }
   ],
   "source": [
    "losses = [classifier_1['loss'], classifier_2['loss'], classifier_3['loss']]\n",
    "accuracy = [classifier_1['accuracy'], classifier_2['accuracy'], classifier_3['accuracy']]\n",
    "\n",
    "fig, (ax1, ax2) = plt.subplots(1, 2, figsize=(10, 4))\n",
    "\n",
    "selected_color_set = 'Set1'\n",
    "colormap = plt.get_cmap(selected_color_set)\n",
    "\n",
    "for i, (loss, accuracy) in enumerate(zip(losses, accuracy)):\n",
    "    ax1.plot(loss, color=colormap(i), label=f'Classifier {i+1}')\n",
    "    ax2.plot(accuracy, color=colormap(i), label=f'Classifier {i+1}')\n",
    "    \n",
    "ax1.set_xlabel(\"Epochs\")\n",
    "ax1.set_ylabel('Loss')\n",
    "ax2.set_xlabel(\"Epochs\")\n",
    "ax2.set_ylabel('Accuracy')\n",
    "ax1.legend()\n",
    "ax2.legend()\n",
    "\n",
    "plt.savefig('./plot.png', format='png', dpi=600, bbox_inches='tight', transparent=True)\n",
    "plt.tight_layout()\n",
    "\n",
    "plt.show()"
   ]
  },
  {
   "cell_type": "code",
   "execution_count": null,
   "id": "d660dbd5-1a61-4d68-bb17-dac4c9d3866b",
   "metadata": {},
   "outputs": [],
   "source": []
  }
 ],
 "metadata": {
  "kernelspec": {
   "display_name": "Python 3 (ipykernel)",
   "language": "python",
   "name": "python3"
  },
  "language_info": {
   "codemirror_mode": {
    "name": "ipython",
    "version": 3
   },
   "file_extension": ".py",
   "mimetype": "text/x-python",
   "name": "python",
   "nbconvert_exporter": "python",
   "pygments_lexer": "ipython3",
   "version": "3.12.2"
  }
 },
 "nbformat": 4,
 "nbformat_minor": 5
}
